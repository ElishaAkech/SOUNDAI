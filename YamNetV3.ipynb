{
 "cells": [
  {
   "cell_type": "code",
   "execution_count": 1,
   "id": "9bf33994",
   "metadata": {},
   "outputs": [],
   "source": [
    "import numpy as np\n",
    "import pandas as pd\n",
    "import matplotlib.pyplot as plt\n",
    "import os\n",
    "from IPython.display import Audio\n",
    "from scipy.io import wavfile\n",
    "import soundfile as sf\n",
    "import tensorflow as tf\n",
    "import tensorflow_hub as hub\n",
    "import warnings\n",
    "warnings.filterwarnings('ignore')\n",
    "from sklearn.preprocessing import OneHotEncoder\n",
    "from sklearn.model_selection import train_test_split\n",
    "from tensorflow.keras import layers, models\n",
    "from sklearn.metrics import classification_report\n",
    "import librosa"
   ]
  },
  {
   "cell_type": "code",
   "execution_count": 2,
   "id": "8bc8b5c9",
   "metadata": {},
   "outputs": [],
   "source": [
    "data_path = \"data\\\\noiseData\""
   ]
  },
  {
   "cell_type": "code",
   "execution_count": 3,
   "id": "5252db2d",
   "metadata": {},
   "outputs": [],
   "source": [
    "from scipy.io import wavfile\n",
    "import scipy.signal\n",
    "def ensure_sample_rate(original_sample_rate, waveform, desired_sample_rate=22000):\n",
    "    if original_sample_rate != desired_sample_rate:\n",
    "        desired_length = int(\n",
    "            round(float(len(waveform))/original_sample_rate * desired_sample_rate))\n",
    "        waveform = scipy.signal.resample(waveform, desired_length)\n",
    "    return desired_sample_rate, waveform"
   ]
  },
  {
   "cell_type": "code",
   "execution_count": 4,
   "id": "b4b7b54e",
   "metadata": {},
   "outputs": [],
   "source": [
    "# Load YAMNet model\n",
    "model_yamnet = hub.load('https://tfhub.dev/google/yamnet/1')\n",
    "\n",
    "# Define target classes\n",
    "classes = [\"Bicycle\", \"MotorCycle\", \"Private car\", \"Pickup\", \"SUV\", \"PSV\", \"Buses\", \n",
    "           \"Light trucks\", \"Medium trucks\", \"Heavy trucks\", \"Others\"]\n",
    "\n",
    "# Function to read and preprocess audio\n",
    "def read_audio(file_path, desired_sample_rate=22000):\n",
    "    audio, sample_rate = librosa.load(file_path, sr=None)  # Load with original sample rate\n",
    "    sample_rate, audio = ensure_sample_rate(sample_rate, audio, desired_sample_rate)\n",
    "    return audio, sample_rate\n",
    "\n",
    "# Improved pipeline function\n",
    "def pipeline(file_path):\n",
    "    audio_data, sample_rate = read_audio(file_path)\n",
    "    # Reshape audio to 2D if needed (mono channel)\n",
    "    if len(audio_data.shape) > 1:\n",
    "        audio_data = np.mean(audio_data, axis=1)\n",
    "    audio_data = tf.convert_to_tensor(audio_data, dtype=tf.float32)\n",
    "    scores, embeddings, spectrogram = model_yamnet(audio_data)\n",
    "    # Use mean embedding if variable length, no fixed padding\n",
    "    mean_embedding = tf.reduce_mean(embeddings, axis=0)\n",
    "    # Placeholder model (replace with your trained model if available)\n",
    "    # For now, use a simple mapping based on YAMNet scores\n",
    "    class_scores = tf.reduce